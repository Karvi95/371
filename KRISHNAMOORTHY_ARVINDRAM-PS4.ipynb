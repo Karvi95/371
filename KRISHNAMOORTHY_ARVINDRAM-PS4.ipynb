{
 "cells": [
  {
   "cell_type": "markdown",
   "metadata": {
    "ein.tags": [
     "worksheet-0"
    ],
    "slideshow": {
     "slide_type": "-"
    }
   },
   "source": [
    "# INFO371: Problem Set 4, due May 22 at 3:30pm.\n",
    "\n",
    "### Before You Start\n",
    "\n",
    "This is a fun but challenging problem set. It will test your python skills, as well as your understanding of the material in class and in the readings. Start early and debug often! Some notes:\n",
    "\n",
    "* Part 1 is meant to be easy, so get through it quickly.\n",
    "* Part 2 (especially 2.1) will be difficult, but it is the lynchpin of\n",
    "  this problem set to make sure to do it well and understand what\n",
    "  you've done. If you find your gradient descent algorithm is taking\n",
    "  more than a few minutes to complete (it takes ~15s for me), debug more, compare notes with others, and go to the TA sessions.\n",
    "* Depending on how well you've done 2.1, parts 2.3 and 3.3 will be relatively painless or incredibly painful. \n",
    "* Part 3 and 4 (especially 4.3) will be computationally intensive. Don't leave this until the last minute, otherwise your code might be running when the deadline arrives.\n",
    "* Do the extra credit problems last."
   ]
  },
  {
   "cell_type": "markdown",
   "metadata": {
    "ein.tags": [
     "worksheet-0"
    ],
    "slideshow": {
     "slide_type": "-"
    }
   },
   "source": [
    "---\n",
    "\n",
    "## Introduction to the assignment\n",
    "\n",
    "As with the last assignment, you will be using the [Boston Housing Prices Data Set](http://archive.ics.uci.edu/ml/datasets/Housing)."
   ]
  },
  {
   "cell_type": "code",
   "execution_count": 1,
   "metadata": {
    "autoscroll": "json-false",
    "collapsed": false,
    "ein.tags": [
     "worksheet-0"
    ],
    "slideshow": {
     "slide_type": "-"
    }
   },
   "outputs": [],
   "source": [
    "import IPython\n",
    "import numpy as np\n",
    "import scipy as sp\n",
    "import pandas as pd\n",
    "\n",
    "import matplotlib.pyplot as plt  \n",
    "%matplotlib inline  \n",
    "\n",
    "import statsmodels.api as sm\n",
    "import statsmodels.formula.api as smf\n",
    "\n",
    "import sklearn.linear_model as lm\n",
    "from sklearn.metrics import mean_squared_error\n",
    "from sklearn import model_selection\n",
    "# use cross_validation for earlier versions of sklearn\n",
    "from sklearn.model_selection import KFold, cross_val_score\n",
    "from sklearn.model_selection import train_test_split\n",
    "\n",
    "import time\n",
    "from functools import reduce"
   ]
  },
  {
   "cell_type": "code",
   "execution_count": 2,
   "metadata": {
    "autoscroll": "json-false",
    "collapsed": false,
    "ein.tags": [
     "worksheet-0"
    ],
    "slideshow": {
     "slide_type": "-"
    }
   },
   "outputs": [],
   "source": [
    "from sklearn.datasets import load_boston\n",
    "bdata = load_boston()"
   ]
  },
  {
   "cell_type": "markdown",
   "metadata": {
    "ein.tags": [
     "worksheet-0"
    ],
    "slideshow": {
     "slide_type": "-"
    }
   },
   "source": [
    "---\n",
    "\n",
    "## Part 1: Getting oriented\n",
    "\n",
    "Learn the existing libraries for OLS and cross validation.\n",
    "\n",
    "### 1.1 Use existing libraries\n",
    "\n",
    "Soon, you will write your own gradient descent algorithm, which you will then use to minimize the squared error cost function.  First, however, let's use the canned versions that come with Python, to make sure we understand what we're aiming to achieve.\n",
    "\n",
    "Using the same Boston housing prices dataset as we did for the\n",
    "previous PS, use linear regression from sklearn or SciPy to explore\n",
    "the relationship between  median housing price and number of rooms per\n",
    "house.  Do this by first (a) regressing the housing price on the number of rooms per house, and then (b) regressing the housing price on the number of rooms per house and the (number of rooms per house) squared.  **Interpret your results.**"
   ]
  },
  {
   "cell_type": "code",
   "execution_count": 3,
   "metadata": {
    "autoscroll": "json-false",
    "collapsed": false,
    "ein.tags": [
     "worksheet-0"
    ],
    "slideshow": {
     "slide_type": "-"
    }
   },
   "outputs": [
    {
     "name": "stdout",
     "output_type": "stream",
     "text": [
      "LinregressResult(slope=9.102108981180308, intercept=-34.670620776438554, rvalue=0.69535994707153936, pvalue=2.4872288710078101e-74, stderr=0.41902656012134021)\n",
      "\n",
      "[-22.64326237   2.47012384]\n",
      "66.0588474848\n"
     ]
    }
   ],
   "source": [
    "# your code\n",
    "boston = pd.DataFrame(bdata.data)\n",
    "boston.columns = bdata.feature_names\n",
    "boston['MEDV'] = bdata.target\n",
    "\n",
    "slope, intercept, r_value, p_value, std_err = sp.stats.linregress(boston['RM'].values, boston['MEDV'])\n",
    "print(sp.stats.linregress(boston['RM'].values, boston['MEDV']))\n",
    "print()\n",
    "\n",
    "secondSet = [boston[\"RM\"], boston[\"RM\"] * boston[\"RM\"]]\n",
    "linReg = lm.LinearRegression()\n",
    "x = np.array(secondSet).T\n",
    "y = np.array(boston[\"MEDV\"]).T\n",
    "solution = linReg.fit(x,y)\n",
    "betas = solution.coef_\n",
    "intercept = solution.intercept_\n",
    "\n",
    "print(betas)\n",
    "print(intercept)"
   ]
  },
  {
   "cell_type": "markdown",
   "metadata": {
    "ein.tags": [
     "worksheet-0"
    ],
    "slideshow": {
     "slide_type": "-"
    }
   },
   "source": [
    "your interpretation..."
   ]
  },
  {
   "cell_type": "markdown",
   "metadata": {
    "ein.tags": [
     "worksheet-0"
    ],
    "slideshow": {
     "slide_type": "-"
    }
   },
   "source": [
    "### 1.2 Training and testing\n",
    "\n",
    "Above, you probably used all of your data to fit the regression line. In some circumstances this is a reasonable thing to do, but often this will result in overfitting. Let's redo the above results the ML way, using careful cross-validation.  Since you are now experts in cross-validation, and have written your own cross-validation algorithm from scratch, you can now take a shortcut and use the libraries that others have built for you.\n",
    "\n",
    "Using the cross\\_validation (or model\\_selection) functions from\n",
    "scikit-learn, use k-fold cross-validation to fit regression (a) above,\n",
    "i.e. the linear fit of housing price on number of rooms per house.\n",
    "Use a large $k$ value, say, 100.  Each fold of cross-validation will give you one slope coefficient and one intercept coefficient.  Plot the distribution of the k slope coefficients, and draw a vertical line at the value of the slope coefficient that you estimated in 1.1 using the full dataset.  What do you observe?"
   ]
  },
  {
   "cell_type": "code",
   "execution_count": 4,
   "metadata": {
    "autoscroll": "json-false",
    "collapsed": false,
    "ein.tags": [
     "worksheet-0"
    ],
    "slideshow": {
     "slide_type": "-"
    }
   },
   "outputs": [
    {
     "data": {
      "image/png": "[encoded data removed]",
      "text/plain": [
       "<matplotlib.figure.Figure at 0x7f628a1d5fd0>"
      ]
     },
     "metadata": {},
     "output_type": "display_data"
    }
   ],
   "source": [
    "## code\n",
    "kf = KFold(n_splits=100)\n",
    "X = boston[\"RM\"]\n",
    "Y = boston[\"MEDV\"]\n",
    "kf.get_n_splits(X)\n",
    "\n",
    "KCoefs = []\n",
    "for train_index, test_index in kf.split(X):\n",
    "    #print(\"TRAIN:\", train_index, \"TEST:\", test_index)\n",
    "    X_train, X_test = X[train_index], X[test_index]\n",
    "    y_train, y_test = y[train_index], y[test_index]\n",
    "    kFoldsLinReg = lm.LinearRegression()\n",
    "    \n",
    "    output = kFoldsLinReg.fit(np.matrix(X_train).T, np.matrix(y_train).T)\n",
    "    #print('coefs',output.coef_)\n",
    "    predictions = output.predict(np.matrix(X_test).T)\n",
    "    KCoefs.append(output.coef_[0][0])\n",
    "\n",
    "plt.axvline(slope, color = 'r', linestyle = 'dashed', linewidth = 4)\n",
    "plt.hist(KCoefs, color = 'g', edgecolor = \"none\",)\n",
    "plt.show()"
   ]
  },
  {
   "cell_type": "markdown",
   "metadata": {
    "ein.tags": [
     "worksheet-0"
    ],
    "slideshow": {
     "slide_type": "-"
    }
   },
   "source": [
    "what do you observe?"
   ]
  },
  {
   "cell_type": "markdown",
   "metadata": {
    "ein.tags": [
     "worksheet-0"
    ],
    "slideshow": {
     "slide_type": "-"
    }
   },
   "source": [
    "### 1.3 Regression lines\n",
    "\n",
    "Create a scatterplot of housing price on rooms per house, and add the\n",
    "two regression lines from 1.1 (or 1.2 if you prefer to do so). Show\n",
    "the linear regression line in red, and the linear + quadratic regression line (which may have curvature) in blue.  Label these two regression lines with the corresponding regression equations (i.e. the slope and intercept of the line).\n",
    "\n",
    "Bonus: Add the 95% confidence bands (i.e.,  the area that has a 95% chance of containing the true regression line) to each of these lines."
   ]
  },
  {
   "cell_type": "code",
   "execution_count": 42,
   "metadata": {
    "autoscroll": "json-false",
    "collapsed": false,
    "ein.tags": [
     "worksheet-0"
    ],
    "slideshow": {
     "slide_type": "-"
    }
   },
   "outputs": [
    {
     "ename": "NameError",
     "evalue": "name 'X_first' is not defined",
     "output_type": "error",
     "traceback": [
      "\u001b[1;31m---------------------------------------------------------------------------\u001b[0m",
      "\u001b[1;31mNameError\u001b[0m                                 Traceback (most recent call last)",
      "\u001b[1;32m<ipython-input-42-194fd61e8030>\u001b[0m in \u001b[0;36m<module>\u001b[1;34m()\u001b[0m\n\u001b[0;32m      6\u001b[0m \u001b[0mplt\u001b[0m\u001b[1;33m.\u001b[0m\u001b[0mxlabel\u001b[0m\u001b[1;33m(\u001b[0m\u001b[1;34m\"True Median Housing Price\"\u001b[0m\u001b[1;33m)\u001b[0m\u001b[1;33m\u001b[0m\u001b[0m\n\u001b[0;32m      7\u001b[0m \u001b[1;33m\u001b[0m\u001b[0m\n\u001b[1;32m----> 8\u001b[1;33m \u001b[0mplt\u001b[0m\u001b[1;33m.\u001b[0m\u001b[0mplot\u001b[0m\u001b[1;33m(\u001b[0m\u001b[0mX\u001b[0m\u001b[1;33m,\u001b[0m \u001b[0mlinReg\u001b[0m\u001b[1;33m.\u001b[0m\u001b[0mpredict\u001b[0m\u001b[1;33m(\u001b[0m\u001b[0mX_first\u001b[0m\u001b[1;33m)\u001b[0m\u001b[1;33m,\u001b[0m\u001b[0mcolor\u001b[0m \u001b[1;33m=\u001b[0m \u001b[1;34m'r'\u001b[0m\u001b[1;33m,\u001b[0m \u001b[0mlinestyle\u001b[0m \u001b[1;33m=\u001b[0m \u001b[1;34m'dashed'\u001b[0m\u001b[1;33m,\u001b[0m \u001b[0mlinewidth\u001b[0m \u001b[1;33m=\u001b[0m \u001b[1;36m2\u001b[0m\u001b[1;33m)\u001b[0m\u001b[1;33m\u001b[0m\u001b[0m\n\u001b[0m\u001b[0;32m      9\u001b[0m \u001b[0mplt\u001b[0m\u001b[1;33m.\u001b[0m\u001b[0mplot\u001b[0m\u001b[1;33m(\u001b[0m\u001b[0mX\u001b[0m\u001b[1;33m,\u001b[0m \u001b[0mlinReg\u001b[0m\u001b[1;33m.\u001b[0m\u001b[0mpredict\u001b[0m\u001b[1;33m(\u001b[0m\u001b[0mX_total\u001b[0m\u001b[1;33m)\u001b[0m\u001b[1;33m,\u001b[0m\u001b[0mcolor\u001b[0m \u001b[1;33m=\u001b[0m \u001b[1;34m'blue'\u001b[0m\u001b[1;33m,\u001b[0m \u001b[0mlinestyle\u001b[0m \u001b[1;33m=\u001b[0m \u001b[1;34m'dashed'\u001b[0m\u001b[1;33m,\u001b[0m \u001b[0mlinewidth\u001b[0m \u001b[1;33m=\u001b[0m \u001b[1;36m2\u001b[0m\u001b[1;33m)\u001b[0m\u001b[1;33m\u001b[0m\u001b[0m\n\u001b[0;32m     10\u001b[0m \u001b[0mplt\u001b[0m\u001b[1;33m.\u001b[0m\u001b[0mscatter\u001b[0m\u001b[1;33m(\u001b[0m\u001b[0mX\u001b[0m\u001b[1;33m,\u001b[0m \u001b[0mY\u001b[0m\u001b[1;33m,\u001b[0m \u001b[0mcolor\u001b[0m \u001b[1;33m=\u001b[0m \u001b[1;34m'g'\u001b[0m\u001b[1;33m,\u001b[0m \u001b[0medgecolor\u001b[0m \u001b[1;33m=\u001b[0m \u001b[1;34m\"none\"\u001b[0m\u001b[1;33m,\u001b[0m\u001b[1;33m)\u001b[0m\u001b[1;33m\u001b[0m\u001b[0m\n",
      "\u001b[1;31mNameError\u001b[0m: name 'X_first' is not defined"
     ]
    },
    {
     "data": {
      "image/png": "[encoded data removed]",
      "text/plain": [
       "<matplotlib.figure.Figure at 0x7f62871d5ba8>"
      ]
     },
     "metadata": {},
     "output_type": "display_data"
    }
   ],
   "source": [
    "# code\n",
    "p, ax = plt.subplots()\n",
    "plt.scatter(X,Y)\n",
    "plt.title(\"Unnormalized True vs. Predicted Median Housing Price in $1000\")\n",
    "plt.ylabel(\"Predicted Median Housing Price in $1000\")\n",
    "plt.xlabel(\"True Median Housing Price\")\n",
    "\n",
    "plt.plot(X, linReg.predict(X_first),color = 'r', linestyle = 'dashed', linewidth = 2)\n",
    "plt.plot(X, linReg.predict(X_total),color = 'blue', linestyle = 'dashed', linewidth = 2)\n",
    "plt.scatter(X, Y, color = 'g', edgecolor = \"none\",)\n",
    "plt.show()"
   ]
  },
  {
   "cell_type": "markdown",
   "metadata": {
    "ein.tags": [
     "worksheet-0"
    ],
    "slideshow": {
     "slide_type": "-"
    }
   },
   "source": [
    "## Part 2: Gradient descent: Linear Regression\n",
    "\n",
    "Here we'll really get serious.  It's your turn to implement some\n",
    "methods now.\n",
    "\n",
    "### 2.1 Implement gradient descent with one independent variable (Average rooms per house)\n",
    "\n",
    "Implement the basic gradient descent algorithm that we discussed in\n",
    "class. Use the version you implement to regress the housing price on\n",
    "the number of rooms per house. Experiment with 3-4 different values of\n",
    "the learning rate $R$ to find the one that works well.  Comment your results.\n",
    "\n",
    "Do the following:\n",
    "\n",
    "* At each beta value compute the gradient of the loss function (Note:\n",
    "  this is a vector of 2 components, bias and RM) and change beta in that direction.\n",
    "* Repeat the process until convergence (or until you lose the hope you\n",
    "  will ever get that far ;-)\n",
    "* Report the values of the parameter that minimize the loss function\n",
    "* For each value of $R$ Report the number of iterations it takes for\n",
    "  your algorithm to converge (or not to explode)\n",
    "* Report the total running time of your algorithm\n",
    "\n",
    "Here you are supposed to code the algorithm for a single explanatory\n",
    "variable (RM) and constant.  I strongly recommend you to do it in\n",
    "matrix form but you can also loop over your data.  Note that if done\n",
    "in matrix form, the function here is almost exactly the same as for\n",
    "multple regression you are asked to implement later.\n",
    "\n",
    "* Hint 1: Don't forget to implement stopping conditions, so that at\n",
    "  every iteration you check whether your results have\n",
    "  converged. Common approaches to this are to (a) check if the loss\n",
    "  has stopped decreasing; (b) check if both your current parameter\n",
    "  esimates are close to the estimates from the previous iteration; (c)\n",
    "  check if your gradient is close to zero..  In both cases, \"close\"\n",
    "  should not be == 0, it should be <=epsilon, where epsilon is a small\n",
    "  number, such as 1e-6).\n",
    "* Hint 2: include a maximum number of iterations to avoid the code\n",
    "  running for ever.  Report \"no convergence\" if this is exceeded.\n",
    "  Depending on your code, you may need 30,000 iterations.\n",
    "* Hint 3: $R = 10^{-4}$ may be a good starting point.  But it depends\n",
    "on how exactly do you write your loss function\n",
    "\n",
    "Bonus challenge if you feel for it:\n",
    "* Implement an adaptive version of learning rate."
   ]
  },
  {
   "cell_type": "code",
   "execution_count": 64,
   "metadata": {
    "autoscroll": "json-false",
    "collapsed": false,
    "ein.tags": [
     "worksheet-0"
    ],
    "slideshow": {
     "slide_type": "-"
    }
   },
   "outputs": [
    {
     "name": "stdout",
     "output_type": "stream",
     "text": [
      "(matrix([[ 0.46699831],\n",
      "        [ 3.10864868]]), 1000, False)\n",
      "Total Run Time of RM on MEDV; R = Default; MaxIterations = Default: 0.23 seconds.\n",
      "\n",
      "(matrix([[-24.08470445],\n",
      "        [  7.43794927]]), 20000, False)\n",
      "Total Run Time of RM on MEDV; R = 0.01; MaxIterations = 20000: 2.82 seconds.\n",
      "\n",
      "(matrix([[-34.66895811],\n",
      "        [  9.1018476 ]]), 33134, True)\n",
      "Total Run Time of RM on MEDV; R = 0.05; MaxIterations = 40000: 4.4 seconds.\n"
     ]
    }
   ],
   "source": [
    "\"\"\"\n",
    "Function\n",
    "--------\n",
    "ols\n",
    "    Gradient Decent to minimize OLS. Used to find co-efficients of bivariate OLS Linear regression\n",
    "\n",
    "Parameters\n",
    "----------\n",
    "xvalues, yvalues : narray\n",
    "    xvalues: n x 2, independent variables.  One column should be constant\n",
    "    yvalues: n x 1, dependent variable\n",
    "    \n",
    "R: float\n",
    "    Learning rate\n",
    "    \n",
    "MaxIterations: Int\n",
    "    maximum number of iterations\n",
    "\n",
    "Returns\n",
    "-------\n",
    "(beta, iterations, convergence)\n",
    "beta: float vector, the parameter value \n",
    "iterations: integer, number of iterations\n",
    "convergece: logical, did the model converge?\n",
    "\"\"\"\n",
    "\n",
    "\n",
    "\n",
    "#Adapted from http://ozzieliu.com/2016/02/09/gradient-descent-tutorial/\n",
    "def ols(xvalues, yvalues, R=0.0001, MaxIterations=1000):\n",
    "    ## set initial beta.  Beta=0 may be a good choice\n",
    "    beta = np.asmatrix(np.zeros((2, 1)))\n",
    "    iterations = 0\n",
    "    convergence = False\n",
    "    \n",
    "    m = xvalues.size\n",
    "    lossHistory = np.array([0.0] * MaxIterations)\n",
    "    ## iterate many times\n",
    "    while not convergence:\n",
    "        ### calculate loss\n",
    "        loss = calculateLoss(xvalues, yvalues, beta)\n",
    "        lossHistory[iterations] = loss\n",
    "    \n",
    "        ### calculate gradient of loss\n",
    "        gradient = (np.dot( xvalues.T, (  np.dot(   xvalues, beta   ) - yvalues  ) ) / m)\n",
    "        \n",
    "        ### calculate new_beta = beta - R*gradient\n",
    "        beta = beta - R * gradient\n",
    "        iterations = iterations + 1\n",
    "        \n",
    "        convergence = (np.all(abs(gradient) < 0.00001))\n",
    "        ### did L change much?  Did beta change much?  Have you tried too\n",
    "        ### many times?\n",
    "        if (iterations == MaxIterations):\n",
    "            return beta, iterations, convergence\n",
    "        \n",
    "        ### If converged:\n",
    "        if(convergence):\n",
    "            return beta, iterations, True\n",
    "    return beta, iterations, convergence\n",
    "\n",
    "\n",
    "def calculateLoss(X, y, beta):\n",
    "    \"\"\"\n",
    "    cost_function(X, y, beta) computes the cost of using beta as the\n",
    "    parameter for linear regression to fit the data points in X and y\n",
    "    \"\"\"\n",
    "    ## number of training examples\n",
    "    m = len(X)\n",
    "\n",
    "    ## Calculate the cost with the given parameters\n",
    "    J = np.sum(np.square( np.dot(  X, beta  ) - y )) / (2 * m)\n",
    "\n",
    "    return J\n",
    "\n",
    "XNew = np.column_stack((np.ones(506), X))\n",
    "YNew = np.asmatrix(Y).T\n",
    "\n",
    "# Test 1 and Time\n",
    "start_time = time.time()\n",
    "print(ols(XNew, YNew))\n",
    "print(\"Total Run Time of RM on MEDV; R = Default; MaxIterations = Default: \" + str(round(time.time() - start_time, 2)) + \" seconds.\")\n",
    "print()\n",
    "\n",
    "# Test 2 and Time\n",
    "start_time = time.time()\n",
    "print(ols(XNew, YNew, 0.01,20000))\n",
    "print(\"Total Run Time of RM on MEDV; R = 0.01; MaxIterations = 20000: \" + str(round(time.time() - start_time, 2)) + \" seconds.\")\n",
    "print()\n",
    "\n",
    "\n",
    "# Test 3 and Time\n",
    "start_time = time.time()\n",
    "print(ols(XNew, YNew, 0.05, 40000))\n",
    "print(\"Total Run Time of RM on MEDV; R = 0.05; MaxIterations = 40000: \" + str(round(time.time() - start_time, 2)) + \" seconds.\")"
   ]
  },
  {
   "cell_type": "markdown",
   "metadata": {
    "ein.tags": [
     "worksheet-0"
    ],
    "slideshow": {
     "slide_type": "-"
    }
   },
   "source": [
    "Comment your results"
   ]
  },
  {
   "cell_type": "markdown",
   "metadata": {
    "ein.tags": [
     "worksheet-0"
    ],
    "slideshow": {
     "slide_type": "-"
    }
   },
   "source": [
    "### 2.2 Data normalization\n",
    "\n",
    "Soon, you will implement a version of gradient descent that can use an\n",
    "arbitrary number of independent variables. Before doing this, however,\n",
    "you should re-scale your features to ensure that no single feature\n",
    "dominates the cost function. Write a simple function to standardize\n",
    "your features.  Below is my version, but you can also use what you did\n",
    "in PS3."
   ]
  },
  {
   "cell_type": "code",
   "execution_count": 8,
   "metadata": {
    "autoscroll": "json-false",
    "collapsed": false,
    "ein.tags": [
     "worksheet-0"
    ],
    "slideshow": {
     "slide_type": "-"
    }
   },
   "outputs": [],
   "source": [
    "def standardize(raw_data):\n",
    "    return ((raw_data - np.mean(raw_data, axis = 0)) / np.std(raw_data, axis = 0))\n",
    "\n",
    "def de_standardize(data):\n",
    "    return data*np.std(data, axis = 0) + np.mean(data, axis = 0)\n",
    "\n",
    "def normalize(toNormalize):\n",
    "    mu = np.mean(toNormalize)\n",
    "    sigma = np.std(toNormalize)\n",
    "    return np.array([((x - mu) / sigma) for x in toNormalize])"
   ]
  },
  {
   "cell_type": "markdown",
   "metadata": {
    "ein.tags": [
     "worksheet-0"
    ],
    "slideshow": {
     "slide_type": "-"
    }
   },
   "source": [
    "### 2.3 Implement gradient descent with an arbitrary number of independent variables\n",
    "\n",
    "Now that you have a simple version of gradient descent working, create\n",
    "a version of gradient descent that can take more than one independent\n",
    "variable.  Assume all independent variables will be continuous.  Test\n",
    "your algorithm using CRIM and RM as independent variables. Standardize\n",
    "these variables before before inputting them to the gradient descent\n",
    "algorithm.   If you used a pure matrix approach above, you can copy\n",
    "your previous algorithm almost verbatim.\n",
    "\n",
    "As before,  report and interpret your estimated coefficients, the number of iterations before convergence, and the total running time of your algorithm. Experiment with 2-3 different values of R.\n",
    "\n",
    "* *Hint 1: Be careful to implement this efficiently, otherwise it\n",
    "   might take a long time for your code to run.  Avoid looping over\n",
    "   matrix rows and columns if you can and use canned matrix\n",
    "   multiplication/other np functions like `np.mean`.  See the\n",
    "   normalization example above."
   ]
  },
  {
   "cell_type": "code",
   "execution_count": 63,
   "metadata": {
    "autoscroll": "json-false",
    "collapsed": false,
    "ein.tags": [
     "worksheet-0"
    ],
    "slideshow": {
     "slide_type": "-"
    }
   },
   "outputs": [
    {
     "name": "stdout",
     "output_type": "stream",
     "text": [
      "(array([[  3.52430718e-15],\n",
      "       [  6.19318652e-01],\n",
      "       [ -2.51884444e-01]]), 1000, False)\n",
      "Total Run Time of RM and CRIM on MEDV; R = Default; MaxIterations = Default: 0.14 seconds.\n",
      "\n",
      "(array([[  4.43486369e-15],\n",
      "       [  6.40310186e-01],\n",
      "       [ -2.45696333e-01]]), 20000, False)\n",
      "Total Run Time of RM and CRIM on MEDV; R = 0.01; MaxIterations = 20000: 3.17 seconds.\n",
      "\n",
      "(array([[  8.38320556e-16],\n",
      "       [  4.84297613e-01],\n",
      "       [ -2.27734972e-01]]), 40000, False)\n",
      "Total Run Time of RM and CRIM on MEDV; R = 0.0001; MaxIterations = 40000: 5.52 seconds.\n",
      "\n",
      "(array([[  4.50728607e-15],\n",
      "       [  6.41496209e-01],\n",
      "       [ -2.44768962e-01]]), 657, True)\n",
      "Total Run Time of RM and CRIM on MEDV; R = 0.05; MaxIterations = 40000: 0.09 seconds.\n"
     ]
    }
   ],
   "source": [
    "\"\"\"\n",
    "Function\n",
    "--------\n",
    "multivariate_ols\n",
    "    Gradient Decent to minimize OLS. Used to find co-efficients of bivariate OLS Linear regression\n",
    "\n",
    "Parameters\n",
    "----------\n",
    "xvalue_matrix, yvalues : narray\n",
    "    xvalue_matrix: independent variable\n",
    "    yvalues: dependent variable\n",
    "    \n",
    "R: float\n",
    "    Learning rate\n",
    "    \n",
    "MaxIterations: Int\n",
    "    maximum number of iterations\n",
    "    \n",
    "\n",
    "Returns\n",
    "-------\n",
    "alpha: float\n",
    "    intercept\n",
    "    \n",
    "beta_array: array[float]\n",
    "    co-efficient\n",
    "\"\"\"\n",
    "\n",
    "\n",
    "def multiple_ols(xvalue_matrix, y, independentVariablesCount, R=0.01, MaxIterations=1000):\n",
    "    ## the algorithm is essentially the same as above\n",
    "    ## set initial beta.  Beta=0 may be a good choice\n",
    "    beta = np.asmatrix(np.zeros((independentVariablesCount, 1)))\n",
    "    iterations = 0\n",
    "    convergence = False\n",
    "    \n",
    "    m = xvalue_matrix.size\n",
    "    lossHistory = np.array([0.0] * MaxIterations)\n",
    "    ## iterate many times\n",
    "    while not convergence:\n",
    "        ### calculate loss\n",
    "        loss = calculateLoss(xvalue_matrix, y, beta)\n",
    "        lossHistory[iterations] = loss\n",
    "    \n",
    "        ### calculate gradient of loss\n",
    "        gradient = (np.dot( xvalue_matrix.T, (  np.dot(   xvalue_matrix, beta   ) - y  ) ) / m)\n",
    "        \n",
    "        ### calculate new_beta = beta - R*gradient\n",
    "        beta = beta - R * gradient\n",
    "        iterations = iterations + 1\n",
    "        \n",
    "        convergence = (np.all(abs(gradient) < 0.00001))\n",
    "        ### did L change much?  Did beta change much?  Have you tried too\n",
    "        ### many times?\n",
    "        if (iterations == MaxIterations):\n",
    "            return np.array(beta), iterations, convergence\n",
    "        \n",
    "        ### If converged:\n",
    "        if(convergence):\n",
    "            return np.array(beta), iterations, True\n",
    "    return np.array(beta), iterations, convergence\n",
    "\n",
    "\n",
    "def calculateLoss(X, y, beta):\n",
    "    \"\"\"\n",
    "    cost_function(X, y, beta) computes the cost of using beta as the\n",
    "    parameter for linear regression to fit the data points in X and y\n",
    "    \"\"\"\n",
    "    ## number of training examples\n",
    "    m = len(X)\n",
    "\n",
    "    ## Calculate the cost with the given parameters\n",
    "    \n",
    "    J = np.sum(np.square( np.dot(  X, beta  ) - y )) / (2 * m)\n",
    "\n",
    "    return J\n",
    "\n",
    "\n",
    "XMulti = np.column_stack((np.ones(506), standardize(X), standardize(boston[\"CRIM\"])))\n",
    "YMulti = np.asmatrix(standardize(Y)).T\n",
    "\n",
    "indepVarCount = XMulti[0].size\n",
    "\n",
    "# Test 1 and Time\n",
    "start_time = time.time()\n",
    "print(multiple_ols(XMulti, YMulti, indepVarCount))\n",
    "print(\"Total Run Time of RM and CRIM on MEDV; R = Default; MaxIterations = Default: \" + str(round(time.time() - start_time, 2)) + \" seconds.\")\n",
    "print()\n",
    "\n",
    "# Test 2 and Time\n",
    "start_time = time.time()\n",
    "print(multiple_ols(XMulti, YMulti, indepVarCount, 0.001, 20000))\n",
    "print(\"Total Run Time of RM and CRIM on MEDV; R = 0.01; MaxIterations = 20000: \" + str(round(time.time() - start_time, 2)) + \" seconds.\")\n",
    "print()\n",
    "\n",
    "\n",
    "# Test 3 and Time\n",
    "start_time = time.time()\n",
    "print(multiple_ols(XMulti, YMulti, indepVarCount, 0.0001, 40000))\n",
    "print(\"Total Run Time of RM and CRIM on MEDV; R = 0.0001; MaxIterations = 40000: \" + str(round(time.time() - start_time, 2)) + \" seconds.\")\n",
    "print()\n",
    "\n",
    "# Test 4 and Time\n",
    "start_time = time.time()\n",
    "print(multiple_ols(XMulti, YMulti, indepVarCount, 0.05, 40000))\n",
    "print(\"Total Run Time of RM and CRIM on MEDV; R = 0.05; MaxIterations = 40000: \" + str(round(time.time() - start_time, 2)) + \" seconds.\")"
   ]
  },
  {
   "cell_type": "markdown",
   "metadata": {
    "ein.tags": [
     "worksheet-0"
    ],
    "slideshow": {
     "slide_type": "-"
    }
   },
   "source": [
    "Your observations"
   ]
  },
  {
   "cell_type": "markdown",
   "metadata": {
    "ein.tags": [
     "worksheet-0"
    ],
    "slideshow": {
     "slide_type": "-"
    }
   },
   "source": [
    "### 2.4 Compare standardized vs. non-standardized results\n",
    "\n",
    "Repeat the analysis from 2.3, but this time do not standardize your variables - i.e., use the original data. Use the same three values of R (0.1, 0.01, and 0.001). What do you notice about the running time and convergence properties of your algorithm?"
   ]
  },
  {
   "cell_type": "code",
   "execution_count": null,
   "metadata": {
    "autoscroll": "json-false",
    "collapsed": false,
    "ein.tags": [
     "worksheet-0"
    ],
    "slideshow": {
     "slide_type": "-"
    }
   },
   "outputs": [
    {
     "name": "stdout",
     "output_type": "stream",
     "text": [
      "(array([[-0.51333217],\n",
      "       [ 3.92308633],\n",
      "       [-0.35798312]]), 1000, False)\n",
      "Total Run Time of NONSTANDARDIZED RM and CRIM on MEDV; R = Default; MaxIterations = Default: 0.17 seconds.\n",
      "\n"
     ]
    }
   ],
   "source": [
    "XMultiNonstandardized = np.column_stack((np.ones(506), X, boston[\"CRIM\"]))\n",
    "YMultiNonstandardized = np.asmatrix(Y).T\n",
    "\n",
    "indepVarCount = XMultiNonstandardized[0].size\n",
    "\n",
    "# Test 1 and Time\n",
    "start_time = time.time()\n",
    "print(multiple_ols(XMultiNonstandardized, YMultiNonstandardized, indepVarCount))\n",
    "print(\"Total Run Time of NONSTANDARDIZED RM and CRIM on MEDV; R = Default; MaxIterations = Default: \" + str(round(time.time() - start_time, 2)) + \" seconds.\")\n",
    "print()\n",
    "\n",
    "# Test 2 and Time\n",
    "start_time = time.time()\n",
    "print(multiple_ols(XMultiNonstandardized, YMultiNonstandardized, indepVarCount, 0.001, 20000))\n",
    "print(\"Total Run Time of NONSTANDARDIZED RM and CRIM on MEDV; R = 0.01; MaxIterations = 20000: \" + str(round(time.time() - start_time, 2)) + \" seconds.\")\n",
    "print()\n",
    "\n",
    "\n",
    "# Test 3 and Time\n",
    "start_time = time.time()\n",
    "print(multiple_ols(XMultiNonstandardized, YMultiNonstandardized, indepVarCount, 0.0001, 40000))\n",
    "print(\"Total Run Time of NONSTANDARDIZED RM and CRIM on MEDV; R = 0.0001; MaxIterations = 40000: \" + str(round(time.time() - start_time, 2)) + \" seconds.\")\n",
    "print()\n",
    "\n",
    "# Test 4 and Time\n",
    "start_time = time.time()\n",
    "print(multiple_ols(XMultiNonstandardized, YMultiNonstandardized, indepVarCount, 0.05, 40000))\n",
    "print(\"Total Run Time of NONSTANDARDIZED RM and CRIM on MEDV; R = 0.05; MaxIterations = 40000: \" + str(round(time.time() - start_time, 2)) + \" seconds.\")"
   ]
  },
  {
   "cell_type": "markdown",
   "metadata": {
    "ein.tags": [
     "worksheet-0"
    ],
    "slideshow": {
     "slide_type": "-"
    }
   },
   "source": [
    "What do you see?"
   ]
  },
  {
   "cell_type": "markdown",
   "metadata": {
    "ein.tags": [
     "worksheet-0"
    ],
    "slideshow": {
     "slide_type": "-"
    }
   },
   "source": [
    "## 3. Prediction\n",
    "\n",
    "Let's use our fitted model to make predictions about housing prices. Since the focus is now on prediction rather than the interpretation of the coefficients, make sure to use the standardized version of your features in everything that follows.\n",
    "\n",
    "### 3.1 Predicted values and RMSE\n",
    "\n",
    "Let's figure out how accurate this predictive model turns out to\n",
    "be. Report the average 10-fold cross-validated RMSE, separately for\n",
    "the training data and for the testing data.  Feel freee to use 'sklearn's canned cross validation.\n",
    "\n",
    "What is your test RMSE?  How does it compare to the performance of your nearest neighbor algorithm from the last problem set?"
   ]
  },
  {
   "cell_type": "code",
   "execution_count": 11,
   "metadata": {
    "autoscroll": "json-false",
    "collapsed": false,
    "ein.tags": [
     "worksheet-0"
    ],
    "slideshow": {
     "slide_type": "-"
    }
   },
   "outputs": [],
   "source": [
    "def compute_rmse(inputList):\n",
    "        squares = [x ** 2 for x in inputList]\n",
    "        return np.sqrt(reduce(lambda x, y: x + y, squares) / len(squares))"
   ]
  },
  {
   "cell_type": "code",
   "execution_count": 58,
   "metadata": {
    "collapsed": false
   },
   "outputs": [
    {
     "name": "stdout",
     "output_type": "stream",
     "text": [
      "0.62828008855\n"
     ]
    }
   ],
   "source": [
    "# Your code here\n",
    "tenkf = KFold(n_splits=10)\n",
    "\n",
    "\n",
    "RMSEs = []\n",
    "kf = KFold(n_splits=10)\n",
    "for train_index, test_index in kf.split(XMulti):\n",
    "    X_train, X_test = XMulti[train_index], XMulti[test_index]\n",
    "    y_train, y_test = YMulti[train_index], YMulti[test_index]\n",
    "    \n",
    "    myModel = np.asarray(multiple_ols(X_train, y_train, X_train[0].size, 0.05, 40000))\n",
    "    coefs = np.matrix([myModel[0][i][0] for i in range(0,3)]).T\n",
    "    predictions = np.dot(X_test, coefs)\n",
    "    anRMSE = compute_rmse(y_test - predictions)\n",
    "    \n",
    "    RMSEs.append(anRMSE)\n",
    "#     rmses1.append(rmse1)\n",
    "print(np.mean(RMSEs))"
   ]
  },
  {
   "cell_type": "markdown",
   "metadata": {
    "ein.tags": [
     "worksheet-0"
    ],
    "slideshow": {
     "slide_type": "-"
    }
   },
   "source": [
    "comment"
   ]
  },
  {
   "cell_type": "markdown",
   "metadata": {
    "ein.tags": [
     "worksheet-0"
    ],
    "slideshow": {
     "slide_type": "-"
    }
   },
   "source": [
    "### Extra Credit: Logistic Regression\n",
    "\n",
    "For extra credit, implement logistic regression using gradient\n",
    "descent. Create a new variable (EXPENSIVE) to indicate whether the\n",
    "median housing price is more than $40,000. Estimate a logistic\n",
    "regression model of EXPENSIVE on CHAS and RM.  Compute accuracy and recall."
   ]
  },
  {
   "cell_type": "code",
   "execution_count": 13,
   "metadata": {
    "autoscroll": "json-false",
    "collapsed": false,
    "ein.tags": [
     "worksheet-0"
    ],
    "slideshow": {
     "slide_type": "-"
    }
   },
   "outputs": [],
   "source": [
    "# code\n"
   ]
  },
  {
   "cell_type": "markdown",
   "metadata": {
    "ein.tags": [
     "worksheet-0"
    ],
    "slideshow": {
     "slide_type": "-"
    }
   },
   "source": [
    "How well did it work?"
   ]
  },
  {
   "cell_type": "markdown",
   "metadata": {
    "ein.tags": [
     "worksheet-0"
    ],
    "slideshow": {
     "slide_type": "-"
    }
   },
   "source": [
    "## 4 Regularization \n",
    "\n",
    "### 4.1 Get prepped\n",
    "\n",
    "Step 1: For each of the continuous features F in the original dataset, create a standardized version F_1.  Now, create polynomials up to degree 6 of each F_1: the square of F_1 (call this F_2); the cube of F_1 (call this F_3); and so forth up to F_6. If you originally had *K* features, you should now have *6K* features (i.e., we're going to ignore the original unscaled features for the remainder of this problem).\n",
    "\n",
    "Step 2: For simplicity, generate a single training and testing set.  Randomly sample 66% of your data and call this the training set, and set aside the remaining 34% as your test set."
   ]
  },
  {
   "cell_type": "code",
   "execution_count": 14,
   "metadata": {
    "autoscroll": "json-false",
    "collapsed": false,
    "ein.tags": [
     "worksheet-0"
    ],
    "slideshow": {
     "slide_type": "-"
    }
   },
   "outputs": [],
   "source": [
    "# EVERYTHING BUT CHAS\n",
    "FList = list(bdata.feature_names)\n",
    "FList.remove('CHAS')\n",
    "\n",
    "FDimDictionary = {}\n",
    "\n",
    "for feature in FList:\n",
    "    for i in range(1, 7):\n",
    "        FDimDictionary[\"\" + feature + \"_\" + str(i)] = list(standardize(boston[feature]) ** i)\n",
    "\n",
    "columnNames = sorted(FDimDictionary.keys())\n",
    "\n",
    "values = []\n",
    "for name in columnNames:\n",
    "    values.append(FDimDictionary[name])\n",
    "    \n",
    "extraFs = pd.DataFrame(dict(zip(columnNames, values)))\n",
    "    \n",
    "seed = np.random.seed(seed=13579)\n",
    "polyX_train, polyX_test, polyY_train, polyY_test = train_test_split(extraFs, Y, test_size=0.34, random_state=seed)"
   ]
  },
  {
   "cell_type": "markdown",
   "metadata": {
    "ein.tags": [
     "worksheet-0"
    ],
    "slideshow": {
     "slide_type": "-"
    }
   },
   "source": [
    "### 4.2 Let's overfit!\n",
    "Now, using your version of multivariate regression from 2.3, (over)fit\n",
    "your model on the training data. Using your training set, regress\n",
    "housing price on as many of those *6K* features as you can.  If you\n",
    "get too greedy, or if you did not efficiently implement your solution\n",
    "to 2.3, it's possible this will take a long time to compute, or does\n",
    "not converge at all.  \n",
    "\n",
    "Report the RMSE when you apply your model to your training set and to your testing set. How do these numbers compare to each other, and to the RMSE from 2.5 and nearest neighbors?"
   ]
  },
  {
   "cell_type": "code",
   "execution_count": 57,
   "metadata": {
    "autoscroll": "json-false",
    "collapsed": false,
    "ein.tags": [
     "worksheet-0"
    ],
    "slideshow": {
     "slide_type": "-"
    }
   },
   "outputs": [
    {
     "name": "stdout",
     "output_type": "stream",
     "text": [
      "(array([[ 21.05021701],\n",
      "       [ -1.83437679],\n",
      "       [ -0.22534915],\n",
      "       [  0.33430524],\n",
      "       [ -0.05521778],\n",
      "       [ -0.44241847],\n",
      "       [ -3.43723996],\n",
      "       [  0.90357971],\n",
      "       [ -0.87759068],\n",
      "       [  0.4780555 ]]), 11169, True)\n",
      "Total Run Time of CRIM_1, AGE_3, ZN_2, INDUS_4, DIS_3, NOX_1, RAD_2, PTRATIO_3 and RM_3 on MEDV; R = 0.05; R = 40000: 1.32 seconds.\n",
      "(173, 72)\n",
      "(10, 1)\n"
     ]
    }
   ],
   "source": [
    "# code\n",
    "OverFitX = np.column_stack((np.ones(len(polyX_train[\"CRIM_1\"])), polyX_train[\"CRIM_1\"], polyX_train[\"AGE_3\"], polyX_train[\"ZN_2\"], polyX_train[\"INDUS_4\"], polyX_train[\"DIS_3\"], polyX_train[\"NOX_1\"], polyX_train[\"RAD_2\"], polyX_train[\"PTRATIO_3\"], polyX_train[\"RM_3\"]))\n",
    "polyY_train = np.asmatrix(polyY_train).T\n",
    "indepVarCount = OverFitX[0].size\n",
    "\n",
    "start_time = time.time()\n",
    "print(multiple_ols(OverFitX, polyY_train, indepVarCount, 0.05, 40000))\n",
    "print(\"Total Run Time of CRIM_1, AGE_3, ZN_2, INDUS_4, DIS_3, NOX_1, RAD_2, PTRATIO_3 and RM_3 on MEDV; R = 0.05; R = 40000: \" + str(round(time.time() - start_time, 2)) + \" seconds.\")\n",
    "\n",
    "myModel = np.asarray(multiple_ols(OverFitX, polyY_train, indepVarCount, 0.05, 40000))\n",
    "coefs = np.matrix([myModel[0][i][0] for i in range(0,indepVarCount)]).T\n",
    "\n",
    "print(polyX_test.shape)\n",
    "print(coefs.shape)\n",
    "\n",
    "# predictions = np.dot(polyX_test, coefs)\n",
    "# anRMSE = compute_rmse(polyY_test - predictions)\n",
    "\n",
    "\n"
   ]
  },
  {
   "cell_type": "markdown",
   "metadata": {
    "ein.tags": [
     "worksheet-0"
    ],
    "slideshow": {
     "slide_type": "-"
    }
   },
   "source": [
    "Using our \"overfit\" regression, we see a drop in RMSE. As above, the actual values will depend on the random splits in the data, but in general we see that the RMSE is reduced by the largest margin on the training set, but the RMSE on the test set is still lower than the results from a regression with just two regressors"
   ]
  },
  {
   "cell_type": "markdown",
   "metadata": {
    "ein.tags": [
     "worksheet-0"
    ],
    "slideshow": {
     "slide_type": "-"
    }
   },
   "source": [
    "### 4.3 Ridge regularization\n",
    "Incorporate L2 (Ridge) regularization into your multivariate_ols\n",
    "regression.  You have to take your multiple regression code, and add\n",
    "the penalization term to the gradient.  Add the penalty tuning parameter as an\n",
    "additional argument to this function.  Remember not to penalize the\n",
    "constant! \n",
    "\n",
    "Use your regularized regression to re-fit the model from 4.2 above on your training data. Try this for several different values of lambda, and report your RMSE for each lambda separately for your training and testing data. How do these numbers compare to each other, to the RMSE from 4.2,  to the RMSE from 2.3, and to the RMSE from nearest neighbors?\n",
    "\n",
    "Finally, go and brag to your friends about how you just implemented\n",
    "ridge-regularized multivariate regression using gradient descent\n",
    "optimization, from scratch. If you still have friends left ;-)"
   ]
  },
  {
   "cell_type": "code",
   "execution_count": 60,
   "metadata": {
    "autoscroll": "json-false",
    "collapsed": false,
    "ein.tags": [
     "worksheet-0"
    ],
    "slideshow": {
     "slide_type": "-"
    }
   },
   "outputs": [
    {
     "name": "stdout",
     "output_type": "stream",
     "text": [
      "(matrix([[  1.38628822e-06],\n",
      "        [ -2.22136989e-07],\n",
      "        [ -1.02364955e-06],\n",
      "        [  1.37589584e-06],\n",
      "        [  2.21184474e-06],\n",
      "        [  1.15009949e-06],\n",
      "        [ -2.12254161e-07],\n",
      "        [  1.13942271e-06],\n",
      "        [ -1.88515255e-06],\n",
      "        [  3.03056871e-06]]), 1202, False)\n",
      "Total Run Time of RIDGE REGULARIZED CRIM_1, AGE_3, ZN_2, INDUS_4, DIS_3, NOX_1, RAD_2, PTRATIO_3 and RM_3 on MEDV; R = 0.05; R = 40000: 0.23 seconds.\n"
     ]
    }
   ],
   "source": [
    "def multiple_regularized_ols(xvalue_matrix, y, independentVariablesCount, R=0.01, MaxIterations=1000, lbd=1):\n",
    "    ## the only difference with multiple OLS: add the penalty\n",
    "    ## parameter (both to loss and to gradient)\n",
    "    W = np.eye(independentVariablesCount)\n",
    "    W[0][0] = 0\n",
    "    \n",
    "    beta = np.asmatrix(np.zeros((independentVariablesCount, 1)))\n",
    "    iterations = 0\n",
    "    convergence = False\n",
    "    \n",
    "    m = xvalue_matrix.size\n",
    "    lossHistory = np.array([0.0] * MaxIterations)\n",
    "    \n",
    "    ## iterate many times\n",
    "    while not convergence:\n",
    "        ### calculate loss\n",
    "        pOfBeta = np.array(np.dot(beta.T, np.dot(W, beta)))[0][0]\n",
    "        loss = (calculateLoss(xvalue_matrix, y, beta) + (lbd * pOfBeta))\n",
    "        lossHistory[iterations] = loss\n",
    "    \n",
    "        ### calculate gradient of loss\n",
    "        gradient = (( np.dot(  xvalue_matrix.T, (   np.dot(    xvalue_matrix, beta    ) - y   )  ) / m ) + (lbd * pOfBeta))\n",
    "        \n",
    "        ### calculate new_beta = beta - R*gradient\n",
    "        beta = beta - R * gradient\n",
    "        iterations = iterations + 1\n",
    "        \n",
    "        convergence = (np.all(abs(gradient) < 0.001))\n",
    "        ### did L change much?  Did beta change much?  Have you tried too\n",
    "        ### many times?\n",
    "        if (iterations > 1 and lossHistory[iterations - 1] < loss):\n",
    "            return beta, iterations, convergence\n",
    "        \n",
    "        if (iterations == MaxIterations):\n",
    "            return beta, iterations, convergence\n",
    "        \n",
    "        ### If converged:\n",
    "        if(convergence):\n",
    "            return beta, iterations, True\n",
    "    return alpha, beta_array, iterations, convergence\n",
    "\n",
    "\n",
    "def calculateLoss(X, y, beta):\n",
    "    \"\"\"\n",
    "    cost_function(X, y, beta) computes the cost of using beta as the\n",
    "    parameter for linear regression to fit the data points in X and y\n",
    "    \"\"\"\n",
    "    ## number of training examples\n",
    "    m = len(X)\n",
    "\n",
    "    ## Calculate the cost with the given parameters\n",
    "    J = np.sum(np.square( np.dot(  X, beta  ) - y )) / (2 * m)\n",
    "    return J\n",
    "\n",
    "start_time = time.time()\n",
    "print(multiple_regularized_ols(OverFitX, polyY_train, indepVarCount, 0.0000000005, 1202, 1300))\n",
    "print(\"Total Run Time of RIDGE REGULARIZED CRIM_1, AGE_3, ZN_2, INDUS_4, DIS_3, NOX_1, RAD_2, PTRATIO_3 and RM_3 on MEDV; R = 0.05; R = 40000: \" + str(round(time.time() - start_time, 2)) + \" seconds.\")"
   ]
  },
  {
   "cell_type": "markdown",
   "metadata": {
    "ein.tags": [
     "worksheet-0"
    ],
    "slideshow": {
     "slide_type": "-"
    }
   },
   "source": [
    "what do you see?"
   ]
  },
  {
   "cell_type": "markdown",
   "metadata": {
    "ein.tags": [
     "worksheet-0"
    ],
    "slideshow": {
     "slide_type": "-"
    }
   },
   "source": [
    "### Extra Credit 2: Cross-validate lambda\n",
    "\n",
    "Use k-fold cross-validation to select the optimal value of lambda. Report the average RMSE across all training sets, and the average RMSE across all testing sets. How do these numbers compare to each other, to the RMSE from your previous efforts?  Finally, create a scatter plot that shows RMSE as a function of lambda."
   ]
  },
  {
   "cell_type": "code",
   "execution_count": 17,
   "metadata": {
    "autoscroll": "json-false",
    "collapsed": false,
    "ein.tags": [
     "worksheet-0"
    ],
    "slideshow": {
     "slide_type": "-"
    }
   },
   "outputs": [],
   "source": [
    "# code"
   ]
  },
  {
   "cell_type": "markdown",
   "metadata": {
    "ein.tags": [
     "worksheet-0"
    ],
    "slideshow": {
     "slide_type": "-"
    }
   },
   "source": [
    "What is your optimal lambda?"
   ]
  },
  {
   "cell_type": "markdown",
   "metadata": {
    "ein.tags": [
     "worksheet-0"
    ],
    "slideshow": {
     "slide_type": "-"
    }
   },
   "source": [
    "### (Showoff) Extra Credit 3: Lambda and coefficients\n",
    "\n",
    "If you're feeling extra-special, create a parameter plot that shows how the different coefficient estimates change as a function of lambda. To make this graph intelligible, only include the *K* original F_s features in this plot."
   ]
  },
  {
   "cell_type": "code",
   "execution_count": 18,
   "metadata": {
    "autoscroll": "json-false",
    "collapsed": false,
    "ein.tags": [
     "worksheet-0"
    ],
    "slideshow": {
     "slide_type": "-"
    }
   },
   "outputs": [],
   "source": [
    "# code"
   ]
  },
  {
   "cell_type": "markdown",
   "metadata": {
    "ein.tags": [
     "worksheet-0"
    ],
    "slideshow": {
     "slide_type": "-"
    }
   },
   "source": [
    "What do you see with coefficients and lambda?"
   ]
  }
 ],
 "metadata": {
  "kernelspec": {
   "display_name": "Python [Root]",
   "language": "python",
   "name": "Python [Root]"
  },
  "language_info": {
   "codemirror_mode": {
    "name": "ipython",
    "version": 3
   },
   "file_extension": ".py",
   "mimetype": "text/x-python",
   "name": "python",
   "nbconvert_exporter": "python",
   "pygments_lexer": "ipython3",
   "version": "3.5.2"
  },
  "name": "INFO371-PS4.ipynb"
 },
 "nbformat": 4,
 "nbformat_minor": 0
}
