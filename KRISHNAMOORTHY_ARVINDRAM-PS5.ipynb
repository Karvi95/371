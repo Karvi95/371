{
 "cells": [
  {
   "cell_type": "markdown",
   "metadata": {
    "ein.tags": [
     "worksheet-0"
    ],
    "slideshow": {
     "slide_type": "-"
    }
   },
   "source": [
    "# Problem Set 5, due June 2nd at 3:30pm.\n",
    "\n",
    "As usual, you are highly encouraged to start this problem set early.\n",
    "There are a lot of components to this problem set, but I hope that\n",
    "no single problem will take too much time. There are several\n",
    "opportunities to earn extra credit in this problem set, and Part 3 is specified in a rather vague way, giving you considerable leeway in how to do your analysis."
   ]
  },
  {
   "cell_type": "markdown",
   "metadata": {
    "ein.tags": [
     "worksheet-0"
    ],
    "slideshow": {
     "slide_type": "-"
    }
   },
   "source": [
    "# Part 1: Principal Component Analysis\n",
    "\n",
    "Just when you thought you were finally done with the Boston Housing Prices Data Set, it has come back to haunt you for a few more minutes.  Make sure you're up and running as you were on the previous problem set:"
   ]
  },
  {
   "cell_type": "code",
   "execution_count": 1,
   "metadata": {
    "autoscroll": "json-false",
    "collapsed": false,
    "ein.tags": [
     "worksheet-0"
    ],
    "slideshow": {
     "slide_type": "-"
    }
   },
   "outputs": [
    {
     "name": "stderr",
     "output_type": "stream",
     "text": [
      "/home/kriarvi95/anaconda3/lib/python3.5/site-packages/sklearn/cross_validation.py:44: DeprecationWarning: This module was deprecated in version 0.18 in favor of the model_selection module into which all the refactored classes and functions are moved. Also note that the interface of the new CV iterators are different from that of this module. This module will be removed in 0.20.\n",
      "  \"This module will be removed in 0.20.\", DeprecationWarning)\n"
     ]
    }
   ],
   "source": [
    "# Pandas\n",
    "import pandas as pd\n",
    "\n",
    "# Math and Science\n",
    "import numpy as np\n",
    "import scipy.stats\n",
    "from scipy.stats import ttest_ind\n",
    "\n",
    "# Ploting\n",
    "import matplotlib.pyplot as plt \n",
    "from mpl_toolkits.mplot3d import Axes3D\n",
    "%matplotlib inline\n",
    "import matplotlib.mlab as mlab\n",
    "import pydotplus \n",
    "from IPython.display import Image \n",
    "\n",
    "# ML and other relevants\n",
    "import statsmodels.formula.api as smf\n",
    "import statsmodels.api as sm\n",
    "\n",
    "from sklearn.model_selection import train_test_split\n",
    "from sklearn.metrics import mean_squared_error\n",
    "from sklearn.decomposition import PCA\n",
    "from sklearn import decomposition\n",
    "from sklearn import datasets\n",
    "from sklearn.model_selection import KFold\n",
    "import sklearn\n",
    "import sklearn.cross_validation\n",
    "\n",
    "# The data\n",
    "from sklearn.datasets import load_boston\n",
    "bdata = load_boston()"
   ]
  },
  {
   "cell_type": "markdown",
   "metadata": {
    "ein.tags": [
     "worksheet-0"
    ],
    "slideshow": {
     "slide_type": "-"
    }
   },
   "source": [
    "## 1.1 Yet another scatterplot\n",
    "\n",
    "Use matplotlib to create a scatter plot that shows the relationship between the median value of the home (y-axis) and the per-capita crime rate (x-axis).  Then, just use the [Linear Regression class](http://scikit-learn.org/stable/modules/generated/sklearn.linear_model.LinearRegression.html) from sklearn or the [OLS class](http://wiki.scipy.org/Cookbook/OLS) from SciPy to regress median housing price on average number of rooms per house.  Use a training set consisting of 66% of your instances to fit your regression model.  Report the RMSE on the training and test set."
   ]
  },
  {
   "cell_type": "code",
   "execution_count": 6,
   "metadata": {
    "autoscroll": "json-false",
    "collapsed": false,
    "ein.tags": [
     "worksheet-0"
    ],
    "slideshow": {
     "slide_type": "-"
    }
   },
   "outputs": [
    {
     "name": "stderr",
     "output_type": "stream",
     "text": [
      "/home/kriarvi95/anaconda3/lib/python3.5/site-packages/matplotlib/axes/_axes.py:519: UserWarning: No labelled objects found. Use label='...' kwarg on individual plots.\n",
      "  warnings.warn(\"No labelled objects found. \"\n"
     ]
    },
    {
     "data": {
      "image/png": "[encoded data removed]",
      "text/plain": [
       "<matplotlib.figure.Figure at 0x7f8b95012240>"
      ]
     },
     "metadata": {},
     "output_type": "display_data"
    },
    {
     "name": "stdout",
     "output_type": "stream",
     "text": [
      "Correlation of Median Housing and Per-Capita Crime:  -0.385831689884\n",
      "\n",
      "                            OLS Regression Results                            \n",
      "==============================================================================\n",
      "Dep. Variable:                      y   R-squared:                       0.057\n",
      "Model:                            OLS   Adj. R-squared:                  0.054\n",
      "Method:                 Least Squares   F-statistic:                     20.04\n",
      "Date:                Sun, 28 May 2017   Prob (F-statistic):           1.04e-05\n",
      "Time:                        20:29:40   Log-Likelihood:                -1533.2\n",
      "No. Observations:                 333   AIC:                             3068.\n",
      "Df Residuals:                     332   BIC:                             3072.\n",
      "Df Model:                           1                                         \n",
      "Covariance Type:            nonrobust                                         \n",
      "==============================================================================\n",
      "                 coef    std err          t      P>|t|      [95.0% Conf. Int.]\n",
      "------------------------------------------------------------------------------\n",
      "CRIM           0.7058      0.158      4.477      0.000         0.396     1.016\n",
      "==============================================================================\n",
      "Omnibus:                       54.268   Durbin-Watson:                   0.544\n",
      "Prob(Omnibus):                  0.000   Jarque-Bera (JB):              202.662\n",
      "Skew:                          -0.645   Prob(JB):                     9.83e-45\n",
      "Kurtosis:                       6.598   Cond. No.                         1.00\n",
      "==============================================================================\n",
      "\n",
      "Warnings:\n",
      "[1] Standard Errors assume that the covariance matrix of the errors is correctly specified.\n",
      "\n",
      "Training RMSE:  24.1711194831\n",
      "\n",
      "Testing RMSE:  22.913189333\n"
     ]
    }
   ],
   "source": [
    "# 0: ...housekeeping:\n",
    "boston = pd.DataFrame(bdata.data)\n",
    "boston.columns = bdata.feature_names[:]\n",
    "\n",
    "# 1: Use matplotlib to create a scatter plot that shows the relationship between the median value of the home (y-axis) and the per-capita crime rate (x-axis).\n",
    "pltX = boston['CRIM']\n",
    "pltY = bdata.target\n",
    "plt.scatter(pltX, pltY, color='g')\n",
    "plt.title(\"Boston's Median Housing Prices V.S. Per-Capita Crime Rate in Boston\")\n",
    "plt.xlabel('Per-Capita Crime Rate', fontsize=18)\n",
    "plt.ylabel('Median Value of Home ($)', fontsize=16)\n",
    "plt.xlim(-2,100)\n",
    "plt.legend()\n",
    "plt.show()\n",
    "\n",
    "print(\"Correlation of Median Housing and Per-Capita Crime: \", np.corrcoef(pltX,pltY)[1,0])\n",
    "\n",
    "#2: Then, just use the Linear Regression class from sklearn or the OLS class from SciPy to regress median housing price on average number of rooms per house.\n",
    "X_train, X_test, y_train, y_test = train_test_split(pltX, pltY, test_size=0.34, random_state=42)\n",
    "\n",
    "linearModel = sm.OLS(y_train, X_train)\n",
    "olsres = linearModel.fit()\n",
    "trainPredictions = olsres.predict(X_train)\n",
    "testPredictions = olsres.predict(X_test)\n",
    "\n",
    "print()\n",
    "print(olsres.summary())\n",
    "print()\n",
    "\n",
    "#3: Report the RMSE on the training and test set.\n",
    "trainRMSE = mean_squared_error(y_train, trainPredictions)**0.5\n",
    "print('Training RMSE: ', trainRMSE)\n",
    "print()\n",
    "\n",
    "testRMSE = mean_squared_error(y_test, testPredictions)**0.5\n",
    "print('Testing RMSE: ', testRMSE)"
   ]
  },
  {
   "cell_type": "markdown",
   "metadata": {
    "ein.tags": [
     "worksheet-0"
    ],
    "slideshow": {
     "slide_type": "-"
    }
   },
   "source": [
    "## 1.2 Scatterplot matrices\n",
    "\n",
    "Choose 8 out of the of the 14 features of the housing data that you think are most interesting to study.  Create an 8x8 grid of scatterplots showing how each of these variables relate to each other.  You want to produce something that looks generally like [this image](https://learningomics.files.wordpress.com/2013/01/trees.png), just with 8 rows/8 columns."
   ]
  },
  {
   "cell_type": "code",
   "execution_count": 3,
   "metadata": {
    "autoscroll": "json-false",
    "collapsed": false,
    "ein.tags": [
     "worksheet-0"
    ],
    "slideshow": {
     "slide_type": "-"
    }
   },
   "outputs": [
    {
     "ename": "NameError",
     "evalue": "name 'xrange' is not defined",
     "output_type": "error",
     "traceback": [
      "\u001b[1;31m---------------------------------------------------------------------------\u001b[0m",
      "\u001b[1;31mNameError\u001b[0m                                 Traceback (most recent call last)",
      "\u001b[1;32m<ipython-input-3-bcc07f92352a>\u001b[0m in \u001b[0;36m<module>\u001b[1;34m()\u001b[0m\n\u001b[0;32m      1\u001b[0m \u001b[0mplt\u001b[0m\u001b[1;33m.\u001b[0m\u001b[0mfigure\u001b[0m\u001b[1;33m(\u001b[0m\u001b[0mfigsize\u001b[0m\u001b[1;33m=\u001b[0m\u001b[1;33m(\u001b[0m\u001b[1;36m12\u001b[0m\u001b[1;33m,\u001b[0m\u001b[1;36m12\u001b[0m\u001b[1;33m)\u001b[0m\u001b[1;33m)\u001b[0m\u001b[1;33m\u001b[0m\u001b[0m\n\u001b[1;32m----> 2\u001b[1;33m \u001b[1;32mfor\u001b[0m \u001b[0mi\u001b[0m \u001b[1;32min\u001b[0m \u001b[0mxrange\u001b[0m\u001b[1;33m(\u001b[0m\u001b[1;36m8\u001b[0m\u001b[1;33m)\u001b[0m\u001b[1;33m:\u001b[0m\u001b[1;33m\u001b[0m\u001b[0m\n\u001b[0m\u001b[0;32m      3\u001b[0m     \u001b[1;32mfor\u001b[0m \u001b[0mj\u001b[0m \u001b[1;32min\u001b[0m \u001b[0mxrange\u001b[0m\u001b[1;33m(\u001b[0m\u001b[1;36m8\u001b[0m\u001b[1;33m)\u001b[0m\u001b[1;33m:\u001b[0m\u001b[1;33m\u001b[0m\u001b[0m\n\u001b[0;32m      4\u001b[0m         \u001b[0mplt\u001b[0m\u001b[1;33m.\u001b[0m\u001b[0msubplot\u001b[0m\u001b[1;33m(\u001b[0m\u001b[1;36m8\u001b[0m\u001b[1;33m,\u001b[0m \u001b[1;36m8\u001b[0m\u001b[1;33m,\u001b[0m \u001b[0mi\u001b[0m \u001b[1;33m*\u001b[0m \u001b[1;36m8\u001b[0m \u001b[1;33m+\u001b[0m \u001b[0mj\u001b[0m \u001b[1;33m+\u001b[0m \u001b[1;36m1\u001b[0m\u001b[1;33m)\u001b[0m\u001b[1;33m\u001b[0m\u001b[0m\n\u001b[0;32m      5\u001b[0m         \u001b[1;31m# insert your code here\u001b[0m\u001b[1;33m\u001b[0m\u001b[1;33m\u001b[0m\u001b[0m\n",
      "\u001b[1;31mNameError\u001b[0m: name 'xrange' is not defined"
     ]
    },
    {
     "data": {
      "text/plain": [
       "<matplotlib.figure.Figure at 0x7f8bd0ea9908>"
      ]
     },
     "metadata": {},
     "output_type": "display_data"
    }
   ],
   "source": [
    "plt.figure(figsize=(12,12))\n",
    "for i in xrange(8):\n",
    "    for j in xrange(8):\n",
    "        plt.subplot(8, 8, i * 8 + j + 1)\n",
    "        # insert your code here"
   ]
  },
  {
   "cell_type": "markdown",
   "metadata": {
    "ein.tags": [
     "worksheet-0"
    ],
    "slideshow": {
     "slide_type": "-"
    }
   },
   "source": [
    "## 1.3 PCA to the rescue\n",
    "\n",
    "Run principal component analysis (I expect you to use 'sklearn' but feel free to implement it youself ;-) to find the first 12 principal components of your data.  Use only your training set (66% of the data), and use all features *except* the median housing price.  Create a figure showing how the amount of variance explained by your components increases as you increase the number of components from 1 to 12."
   ]
  },
  {
   "cell_type": "code",
   "execution_count": 13,
   "metadata": {
    "autoscroll": "json-false",
    "collapsed": false,
    "ein.tags": [
     "worksheet-0"
    ],
    "slideshow": {
     "slide_type": "-"
    }
   },
   "outputs": [
    {
     "name": "stderr",
     "output_type": "stream",
     "text": [
      "/home/kriarvi95/anaconda3/lib/python3.5/site-packages/matplotlib/axes/_axes.py:519: UserWarning: No labelled objects found. Use label='...' kwarg on individual plots.\n",
      "  warnings.warn(\"No labelled objects found. \"\n"
     ]
    },
    {
     "data": {
      "image/png": "[encoded data removed]",
      "text/plain": [
       "<matplotlib.figure.Figure at 0x7f8b94f71eb8>"
      ]
     },
     "metadata": {},
     "output_type": "display_data"
    }
   ],
   "source": [
    "# 1: Run principal component analysis (I expect you to use 'sklearn' but feel free to implement it youself ;-) to find the first 12 principal components of your data. Use only your training set (66% of the data), and use all features except the median housing price. \n",
    "PCAX_train, PCAX_test, PCAy_train, PCAy_test = train_test_split(boston, pltY, test_size=0.34, random_state=42)\n",
    "\n",
    "forPCA = PCAX_train\n",
    "#forPCA = forPCA.drop('LSTAT', axis=1)\n",
    "forPCA = forPCA.as_matrix()\n",
    "\n",
    "pca = decomposition.PCA()\n",
    "pcaModel = pca.fit(forPCA)\n",
    "\n",
    "#2: Create a figure showing how the amount of variance explained by your components increases as you increase the number of components from 1 to 12.\n",
    "pltPCAx = np.linspace(1, 13, 13).astype(int)\n",
    "pltPCAy = pca.explained_variance_\n",
    "\n",
    "plt.scatter(pltPCAx, pltPCAy, color='purple')\n",
    "plt.title(\"Number of components V.S. Amount of explained variance\")\n",
    "plt.xlabel('Number of components', fontsize=18)\n",
    "plt.ylabel('Amount of explained variance', fontsize=16)\n",
    "plt.legend()\n",
    "plt.show()"
   ]
  },
  {
   "cell_type": "markdown",
   "metadata": {
    "ein.tags": [
     "worksheet-0"
    ],
    "slideshow": {
     "slide_type": "-"
    }
   },
   "source": [
    "## 1.4 Visualizing the components\n",
    "\n",
    "Create a $1\\times 3$ grid containing three scatter plots of your training data:\n",
    "\n",
    "1. PCA 1 vs. PCA 2 (you will need to use `fit_transform` to project your training data onto these two components)\n",
    "2. PCA 1 (x-axis) vs. median housing value\n",
    "3. PCA 2 vs. median housing value"
   ]
  },
  {
   "cell_type": "code",
   "execution_count": 14,
   "metadata": {
    "autoscroll": "json-false",
    "collapsed": false,
    "ein.tags": [
     "worksheet-0"
    ],
    "slideshow": {
     "slide_type": "-"
    }
   },
   "outputs": [],
   "source": [
    "# Enter your code here\n",
    "pca.n_components = 1\n",
    "pcaOne = pca.fit_transform(forPCA)\n",
    "\n",
    "pca.n_components = 2\n",
    "pcaTwo = pca.fit_transform(forPCA)\n",
    "\n"
   ]
  },
  {
   "cell_type": "markdown",
   "metadata": {
    "ein.tags": [
     "worksheet-0"
    ],
    "slideshow": {
     "slide_type": "-"
    }
   },
   "source": [
    "## 1.5 Regression and PCA\n",
    "\n",
    "Using just the first Principal Component learned on the training data, project all of your data (including the test data) onto this 1-dimensional subspace using the `fit_transform` function.  Now, using your training data, fit a regression of median housing price on this first principal component of your data.  Report the RMSE of this regression for both the training and test set.  How do these results compare to your results from 1.1?  Interpret your results!"
   ]
  },
  {
   "cell_type": "code",
   "execution_count": 15,
   "metadata": {
    "autoscroll": "json-false",
    "collapsed": false,
    "ein.tags": [
     "worksheet-0"
    ],
    "slideshow": {
     "slide_type": "-"
    }
   },
   "outputs": [],
   "source": [
    "#1: Using just the first Principal Component learned on the training data, project all of your data (including the test data) onto this 1-dimensional subspace... \n",
    "\n",
    "#2: Now, using your training data, fit a regression of median housing price on this first principal component of your data.\n",
    "\n",
    "#3: Report the RMSE of this regression for both the training and test set."
   ]
  },
  {
   "cell_type": "markdown",
   "metadata": {
    "ein.tags": [
     "worksheet-0"
    ],
    "slideshow": {
     "slide_type": "-"
    }
   },
   "source": [
    "*Enter your observations here*"
   ]
  },
  {
   "cell_type": "markdown",
   "metadata": {
    "ein.tags": [
     "worksheet-0"
    ],
    "slideshow": {
     "slide_type": "-"
    }
   },
   "source": [
    "# Part 2: Trees and Forests\n",
    "\n",
    "You should use the [Decision Tree](http://scikit-learn.org/stable/modules/tree.html#tree) libraries in sklearn for this problem.\n",
    "\n",
    "## 2.1 Binary features, binary outcome\n",
    "\n",
    "Convert a few of the continuous variables to binary indicators: Create a new variable (EXPENSIVE) to indicate whether the median housing price is more than $40,000 (or whatever other value you find interesting).  Create a new binary variable _HIGH\\_CRIME_, which is 1 iff CRIM>10. Create another new binary variable BIG which is 1 iff RM>6.\n",
    "\n",
    "Using 10-fold cross-validation, use _DecisionTreeClassifier_ in 'sklearn' to fit a decision tree that predicts _EXPENSIVE_ based on the values of _HIGH\\_CRIME_, BIG, and CHAS. Report the average training and testing accuracy across your 10 folds, and show a diagram of the tree (at least the first three levels)."
   ]
  },
  {
   "cell_type": "code",
   "execution_count": 16,
   "metadata": {
    "autoscroll": "json-false",
    "collapsed": false,
    "ein.tags": [
     "worksheet-0"
    ],
    "slideshow": {
     "slide_type": "-"
    }
   },
   "outputs": [
    {
     "name": "stdout",
     "output_type": "stream",
     "text": [
      "AVERAGE TRAIN RMSE:  0.0612613263929\n",
      "AVERAGE TEST  RMSE:  0.0609803921569\n",
      "\n"
     ]
    }
   ],
   "source": [
    "from sklearn import tree as tree\n",
    "# 1: Convert a few of the continuous variables to binary indicators\n",
    "decisionTreeDF = boston\n",
    "decisionTreeDF['MEDV'] = bdata.target\n",
    "\n",
    "decisionTreeDF['EXPENSIVE'] = np.nan\n",
    "decisionTreeDF.loc[decisionTreeDF['MEDV'] > 40.0, 'EXPENSIVE'] = 1\n",
    "decisionTreeDF.loc[decisionTreeDF['MEDV'] <= 40.0, 'EXPENSIVE'] = 0\n",
    "\n",
    "\n",
    "decisionTreeDF['_HIGH_CRIME_'] = np.nan\n",
    "decisionTreeDF.loc[decisionTreeDF['CRIM'] > 10, '_HIGH_CRIME_'] = 1\n",
    "decisionTreeDF.loc[decisionTreeDF['CRIM'] <= 10, '_HIGH_CRIME_'] = 0\n",
    "\n",
    "decisionTreeDF['BIG'] = np.nan\n",
    "decisionTreeDF.loc[decisionTreeDF['RM'] > 6, 'BIG'] = 1\n",
    "decisionTreeDF.loc[decisionTreeDF['RM'] <= 6, 'BIG'] = 0\n",
    "\n",
    "#2: Using 10-fold cross-validation, use DecisionTreeClassifier in 'sklearn' to fit a decision tree that predicts EXPENSIVE based on the values of _HIGH_CRIME_, BIG, and CHAS. \n",
    "kf = KFold(n_splits=10)\n",
    "XTree = decisionTreeDF[['_HIGH_CRIME_', 'BIG', 'CHAS']].values\n",
    "\n",
    "trainRMSEs = []\n",
    "testRMSEs = []\n",
    "for trainTree_index, testTree_index in kf.split(XTree):\n",
    "    XTree_train, XTree_test = XTree[trainTree_index], XTree[testTree_index]\n",
    "    yTree_train, yTree_test = decisionTreeDF['EXPENSIVE'][trainTree_index], decisionTreeDF['EXPENSIVE'][testTree_index]\n",
    "    \n",
    "    clf = tree.DecisionTreeClassifier(max_depth=4, random_state=None)\n",
    "    output = clf.fit(XTree_train, yTree_train)\n",
    "    \n",
    "    trainTreePredictions = output.predict(XTree_train)\n",
    "    testTreePredictions = output.predict(XTree_test)\n",
    "    \n",
    "    aTrainRMSE = mean_squared_error(yTree_train, trainTreePredictions)\n",
    "    aTestRMSE = mean_squared_error(yTree_test, testTreePredictions)\n",
    "    trainRMSEs.append(aTrainRMSE)\n",
    "    testRMSEs.append(aTestRMSE)\n",
    "    \n",
    "#3: Report the average training and testing accuracy across your 10 folds, and show a diagram of the tree (at least the first three levels).\n",
    "print('AVERAGE TRAIN RMSE: ', np.mean(trainRMSEs))\n",
    "print('AVERAGE TEST  RMSE: ', np.mean(testRMSEs))\n",
    "print()\n",
    "\n",
    "#4: Show a diagram of the tree (at least the first three levels)\n",
    "\n",
    "#dot_data = tree.export_graphviz(clf, out_file=None, feature_names=['_HIGH_CRIME_', 'BIG', 'CHAS'], class_names=['EXPENSIVE'], filled=True, rounded=True, special_characters=True)  \n",
    "#graph = pydotplus.graph_from_dot_data(dot_data)  \n",
    "#Image(graph.create_png())  "
   ]
  },
  {
   "cell_type": "markdown",
   "metadata": {
    "ein.tags": [
     "worksheet-0"
    ],
    "slideshow": {
     "slide_type": "-"
    }
   },
   "source": [
    "*Enter your observations here*\n"
   ]
  },
  {
   "cell_type": "markdown",
   "metadata": {
    "ein.tags": [
     "worksheet-0"
    ],
    "slideshow": {
     "slide_type": "-"
    }
   },
   "source": [
    "## 2.2 Tree diagram\n",
    "\n",
    "Use all of the data to re-fit a single decision tree with max_depth = 4 (i.e., no cross-validation). Then, use the built-in sklearn libraries to create a diagram of the tree itself. Interpret what you see."
   ]
  },
  {
   "cell_type": "code",
   "execution_count": 17,
   "metadata": {
    "autoscroll": "json-false",
    "collapsed": false,
    "ein.tags": [
     "worksheet-0"
    ],
    "slideshow": {
     "slide_type": "-"
    }
   },
   "outputs": [],
   "source": [
    "#1: Re-fit a single decision tree with max_depth = 4\n",
    "allXTree = decisionTreeDF\n",
    "allXTree = allXTree.drop('MEDV', axis=1)\n",
    "allXTree = allXTree.drop('EXPENSIVE', axis=1)\n",
    "yTree = decisionTreeDF['EXPENSIVE']\n",
    "\n",
    "allDataOutput = clf.fit(allXTree, yTree)\n",
    "\n",
    "#2: Create a diagram of the tree itself."
   ]
  },
  {
   "cell_type": "markdown",
   "metadata": {
    "ein.tags": [
     "worksheet-0"
    ],
    "slideshow": {
     "slide_type": "-"
    }
   },
   "source": [
    "*Enter your observations here*"
   ]
  },
  {
   "cell_type": "markdown",
   "metadata": {
    "ein.tags": [
     "worksheet-0"
    ],
    "slideshow": {
     "slide_type": "-"
    }
   },
   "source": [
    "## Extra Credit: Sensitivity analysis\n",
    "The built-in algorithm you are using has several parameters which you can tune. Using cross-validation, show how the choice of _max\\_depth_ and _min\\_samples\\_leaf_ affects test accuracy. To do this, create a 3-D plot where the x-axis is _max\\_depth_, the y-axis is _min\\_samples\\_leaf_, and the z-axis shows accuracy. What combination of _max\\_depth_ and _min\\_samples__leaf_ achieves the highest accuracy?"
   ]
  },
  {
   "cell_type": "code",
   "execution_count": 18,
   "metadata": {
    "autoscroll": "json-false",
    "collapsed": false,
    "ein.tags": [
     "worksheet-0"
    ],
    "slideshow": {
     "slide_type": "-"
    }
   },
   "outputs": [],
   "source": [
    "# Enter your code here"
   ]
  },
  {
   "cell_type": "markdown",
   "metadata": {
    "ein.tags": [
     "worksheet-0"
    ],
    "slideshow": {
     "slide_type": "-"
    }
   },
   "source": [
    "*Enter your observations here*"
   ]
  },
  {
   "cell_type": "markdown",
   "metadata": {
    "ein.tags": [
     "worksheet-0"
    ],
    "slideshow": {
     "slide_type": "-"
    }
   },
   "source": [
    "## 2.3 Regression Trees\n",
    "Use the _DecisionTreeRegressor_ in 'sklearn' to predict median housing value based on your favorite set of covariates. Report the average 10-fold cross-validated RMSE, separately for the training data and for the testing data. \n",
    "\n",
    "How do your RMSE values compare to those you obtained using nearest neighbors, and (regularized) linear regression?"
   ]
  },
  {
   "cell_type": "code",
   "execution_count": 32,
   "metadata": {
    "autoscroll": "json-false",
    "collapsed": false,
    "ein.tags": [
     "worksheet-0"
    ],
    "slideshow": {
     "slide_type": "-"
    }
   },
   "outputs": [
    {
     "name": "stdout",
     "output_type": "stream",
     "text": [
      "AVERAGE TRAIN RMSE:  0.0\n",
      "AVERAGE TEST  RMSE:  0.0550588235294\n"
     ]
    }
   ],
   "source": [
    "#1: Predict median housing value based on your favorite set of covariates.\n",
    "XTreeRegresion = decisionTreeDF[['ZN', 'INDUS', 'NOX', 'AGE', 'DIS', 'TAX', 'B', 'LSTAT', '_HIGH_CRIME_', 'BIG', 'CHAS']].values\n",
    "\n",
    "trainRegRMSEs = []\n",
    "testRegRMSEs = []\n",
    "for trainTree_index, testTree_index in kf.split(XTreeRegresion):\n",
    "    XTreeRegresion_train, XTreeRegresion_test = XTreeRegresion[trainTree_index], XTreeRegresion[testTree_index]\n",
    "    yTreeRegresion_train, yTreeRegresion_test = decisionTreeDF['EXPENSIVE'][trainTree_index], decisionTreeDF['EXPENSIVE'][testTree_index]\n",
    "    \n",
    "    regressor = tree.DecisionTreeRegressor(random_state=0)\n",
    "    regOutput = regressor.fit(XTreeRegresion_train,  yTreeRegresion_train)\n",
    "    \n",
    "    trainTreeRegPredictions = regOutput.predict(XTreeRegresion_train)\n",
    "    testTreeRegPredictions = regOutput.predict(XTreeRegresion_test)\n",
    "    \n",
    "    aTrainRegRMSE = mean_squared_error(yTreeRegresion_train, trainTreeRegPredictions)\n",
    "    aTestRegRMSE = mean_squared_error(yTreeRegresion_test, testTreeRegPredictions)\n",
    "    trainRegRMSEs.append(aTrainRegRMSE)\n",
    "    testRegRMSEs.append(aTestRegRMSE)\n",
    "    \n",
    "#2:  Report the average 10-fold cross-validated RMSE, separately for the training data and for the testing data.\n",
    "print('AVERAGE TRAIN RMSE: ', np.mean(trainRegRMSEs))\n",
    "print('AVERAGE TEST  RMSE: ', np.mean(testRegRMSEs))"
   ]
  },
  {
   "cell_type": "code",
   "execution_count": 48,
   "metadata": {
    "collapsed": false
   },
   "outputs": [
    {
     "name": "stdout",
     "output_type": "stream",
     "text": [
      "[[ 0.  0.  0.  0.  0.  0.  0.  0.  0.  0.  0.  0.  0.  0.  0.  0.  0.  0.\n",
      "   0.  0.  0.  0.  0.  0.  0.  0.  0.  0.  0.  0.  0.  0.  0.  0.  0.  0.\n",
      "   0.  0.  0.  0.  0.  0.  0.  0.  0.  0.  0.  0.  0.  0.]]\n"
     ]
    }
   ],
   "source": [
    "print(testTreeRegPredictions.reshape(1,-1))"
   ]
  },
  {
   "cell_type": "markdown",
   "metadata": {
    "ein.tags": [
     "worksheet-0"
    ],
    "slideshow": {
     "slide_type": "-"
    }
   },
   "source": [
    "*Enter your observations here*"
   ]
  },
  {
   "cell_type": "markdown",
   "metadata": {
    "ein.tags": [
     "worksheet-0"
    ],
    "slideshow": {
     "slide_type": "-"
    }
   },
   "source": [
    "## 2.4 Build your own random forest\n",
    "Using your model from 2.1, build a forest of 100 trees. Do this manually, i.e., don't rely on existing packages.\n",
    "\n",
    "To accomplish this, first split your data into 10 folds for cross validation. For each fold, take the training data and use bootstrap resampling of your original data to construct 100 new training datasets (each one should be slightly different!). Then, using your optimal values of _max\\_depth_ and _min\\_samples\\_leaf_ from earlier, fit a separate decision tree to each sample. Classify each of your test instances as the class chosen by the majority of the 100 trees. Repeat this process for each of your 10 folds.\n",
    "\n",
    "Hint: Consult Daume Ch 1, Witten et al, ch 4.3\n",
    "\n",
    "What is the cross-validated accuracy of your random forest classifier? How does it compare to the results from 2.1? Is this what you expected? Why or why not?"
   ]
  },
  {
   "cell_type": "code",
   "execution_count": 35,
   "metadata": {
    "autoscroll": "json-false",
    "collapsed": false,
    "ein.tags": [
     "worksheet-0"
    ],
    "slideshow": {
     "slide_type": "-"
    }
   },
   "outputs": [
    {
     "ename": "NameError",
     "evalue": "name 'cross_validation' is not defined",
     "output_type": "error",
     "traceback": [
      "\u001b[1;31m---------------------------------------------------------------------------\u001b[0m",
      "\u001b[1;31mNameError\u001b[0m                                 Traceback (most recent call last)",
      "\u001b[1;32m<ipython-input-35-caa004c590b5>\u001b[0m in \u001b[0;36m<module>\u001b[1;34m()\u001b[0m\n\u001b[0;32m      5\u001b[0m     \u001b[0myForest_train\u001b[0m\u001b[1;33m,\u001b[0m \u001b[0myForest_test\u001b[0m \u001b[1;33m=\u001b[0m \u001b[0mdecisionTreeDF\u001b[0m\u001b[1;33m[\u001b[0m\u001b[1;34m'EXPENSIVE'\u001b[0m\u001b[1;33m]\u001b[0m\u001b[1;33m[\u001b[0m\u001b[0mtrainTree_index\u001b[0m\u001b[1;33m]\u001b[0m\u001b[1;33m,\u001b[0m \u001b[0mdecisionTreeDF\u001b[0m\u001b[1;33m[\u001b[0m\u001b[1;34m'EXPENSIVE'\u001b[0m\u001b[1;33m]\u001b[0m\u001b[1;33m[\u001b[0m\u001b[0mtestTree_index\u001b[0m\u001b[1;33m]\u001b[0m\u001b[1;33m\u001b[0m\u001b[0m\n\u001b[0;32m      6\u001b[0m \u001b[1;33m\u001b[0m\u001b[0m\n\u001b[1;32m----> 7\u001b[1;33m     \u001b[0mbs\u001b[0m \u001b[1;33m=\u001b[0m \u001b[0mcross_validation\u001b[0m\u001b[1;33m.\u001b[0m\u001b[0mBootstrap\u001b[0m\u001b[1;33m(\u001b[0m\u001b[0mboston\u001b[0m\u001b[1;33m[\u001b[0m\u001b[1;34m'MEDV'\u001b[0m\u001b[1;33m]\u001b[0m\u001b[1;33m.\u001b[0m\u001b[0msize\u001b[0m\u001b[1;33m,\u001b[0m \u001b[0mn_bootstraps\u001b[0m\u001b[1;33m=\u001b[0m\u001b[1;36m100\u001b[0m\u001b[1;33m,\u001b[0m \u001b[0mn_train\u001b[0m\u001b[1;33m=\u001b[0m\u001b[0mXForest_train\u001b[0m\u001b[1;33m.\u001b[0m\u001b[0msize\u001b[0m\u001b[1;33m,\u001b[0m \u001b[0mn_test\u001b[0m\u001b[1;33m=\u001b[0m\u001b[0mXForest_test\u001b[0m\u001b[1;33m.\u001b[0m\u001b[0msize\u001b[0m\u001b[1;33m,\u001b[0m \u001b[0mrandom_state\u001b[0m\u001b[1;33m=\u001b[0m\u001b[1;36m0\u001b[0m\u001b[1;33m)\u001b[0m\u001b[1;33m\u001b[0m\u001b[0m\n\u001b[0m\u001b[0;32m      8\u001b[0m \u001b[1;33m\u001b[0m\u001b[0m\n\u001b[0;32m      9\u001b[0m     \u001b[0mforestCLF\u001b[0m \u001b[1;33m=\u001b[0m \u001b[0mtree\u001b[0m\u001b[1;33m.\u001b[0m\u001b[0mDecisionTreeClassifier\u001b[0m\u001b[1;33m(\u001b[0m\u001b[0mmax_depth\u001b[0m\u001b[1;33m=\u001b[0m\u001b[1;36m4\u001b[0m\u001b[1;33m,\u001b[0m \u001b[0mrandom_state\u001b[0m\u001b[1;33m=\u001b[0m\u001b[1;32mNone\u001b[0m\u001b[1;33m,\u001b[0m \u001b[0mmin_samples_leaf\u001b[0m\u001b[1;33m=\u001b[0m\u001b[1;36m2\u001b[0m\u001b[1;33m)\u001b[0m\u001b[1;33m\u001b[0m\u001b[0m\n",
      "\u001b[1;31mNameError\u001b[0m: name 'cross_validation' is not defined"
     ]
    }
   ],
   "source": [
    "#1: build a forest of 100 trees. Do this manually, i.e., don't rely on existing packages.\n",
    "allXTreeVals = allXTree.values\n",
    "for trainForest_index, testForest_index in kf.split(allXTreeVals):\n",
    "    XForest_train, XForest_test = allXTreeVals[trainForest_index], allXTreeVals[testForest_index]\n",
    "    yForest_train, yForest_test = decisionTreeDF['EXPENSIVE'][trainForest_index], decisionTreeDF['EXPENSIVE'][testForest_index]\n",
    "    \n",
    "    bs = cross_validation.Bootstrap(boston['MEDV'].size, n_bootstraps=100, n_train=XForest_train.size, n_test=XForest_test.size, random_state=0)\n",
    "    \n",
    "    perHundred = []\n",
    "    for trainBS_index, testBS_index in bs:\n",
    "        XBS_train, XBS_test = allXTreeVals[trainBS_index], allXTreeVals[testBS_index]\n",
    "        \n",
    "        \n",
    "        forestCLF = tree.DecisionTreeClassifier(max_depth=4, min_samples_leaf=2, random_state=None)\n",
    "        forestOutput = forestCLF.fit(XBS_train, yForest_train)\n",
    "        testTreePredictions = forestOutput.predict(XBS_test)\n",
    "        perHundred.append(testTreePredictions)\n",
    "        \n",
    "        #Classify each of your test instances as the class chosen by the majority of the 100 trees. \n",
    "\n",
    "\n",
    "\n",
    "\n",
    "def find_majority(k):\n",
    "    myMap = {}\n",
    "    maximum = ( '', 0 ) # (occurring element, occurrences)\n",
    "    for n in k:\n",
    "        if n in myMap: myMap[n] += 1\n",
    "        else: myMap[n] = 1\n",
    "\n",
    "        # Keep track of maximum on the go\n",
    "        if myMap[n] > maximum[1]: maximum = (n,myMap[n])\n",
    "\n",
    "    return maximum\n",
    "#2: What is the cross-validated accuracy of your random forest classifier?"
   ]
  },
  {
   "cell_type": "markdown",
   "metadata": {
    "ein.tags": [
     "worksheet-0"
    ],
    "slideshow": {
     "slide_type": "-"
    }
   },
   "source": [
    "*Enter your observations here*"
   ]
  },
  {
   "cell_type": "markdown",
   "metadata": {
    "ein.tags": [
     "worksheet-0"
    ],
    "slideshow": {
     "slide_type": "-"
    }
   },
   "source": [
    "## Extra Credit: Implement a Decision Tree in Python\n",
    "\n",
    "For extra credit, put away the canned algorithm from sklearn, and write your own decision tree algorithm. Use the simple recursive algorithm we described in class, and train it on the boston housing prices data. Use the target variable  EXPENSIVE, and the following three binary input variables: CHAS, HIGH_CRIME, BIG.\n",
    "\n",
    "Do not worry about implementing bells and whistles. However, you will definitely need the following:\n",
    " * A \"BuildTree\" function that implements the recursive algorithm\n",
    " * A function to calculate information gain\n",
    " \n",
    "For this problem, you can consult Daume _A Course in Machine Learning_ how to do this. However, you must make your code your own - do not plagiarize the examples of other peoples. Implement the minimum required code to build a decision tree."
   ]
  },
  {
   "cell_type": "code",
   "execution_count": null,
   "metadata": {
    "autoscroll": "json-false",
    "collapsed": false,
    "ein.tags": [
     "worksheet-0"
    ],
    "slideshow": {
     "slide_type": "-"
    }
   },
   "outputs": [],
   "source": [
    "# Enter your code here"
   ]
  },
  {
   "cell_type": "markdown",
   "metadata": {
    "ein.tags": [
     "worksheet-0"
    ],
    "slideshow": {
     "slide_type": "-"
    }
   },
   "source": [
    "# Part 3: Putting together the pieces\n",
    "\n",
    "At this point, you have learned the nuts and bolts of a large number of machine learning algorithms. This includes: \n",
    "* Nearest Neighbor\n",
    "* k-Nearest Neighbors\n",
    "* Linear Regression\n",
    "* Logistic Regression\n",
    "* LASSO / Ridge Regression\n",
    "* Naive Bayes\n",
    "* Decision Trees\n",
    "* Regression Trees\n",
    "* Random Forests\n",
    "* Neural Networks\n",
    "\n",
    "Your mission now is to use your knowledge of supervised machine learning to try an predict which passengers aboard the Titanic were most likely to survive. The prompts for this part of the problem set are deliberately vague - the goal is to leave it up to you how to structure (most of) your analysis.\n",
    "\n",
    "To get started, read about the prediction problem on [Kaggle](https://www.kaggle.com/c/titanic). Then, download the data [here](https://www.kaggle.com/c/titanic/data) - you'll want at least the train and test data, maybe more.  Note that the version on Kaggle includes more variables than the one we used in the lab, so I recommend you to download once again.\n",
    "\n",
    "## 3.1 Exploratory data analysis\n",
    "\n",
    "Create a few figures and tables that help give you a feel for the data."
   ]
  },
  {
   "cell_type": "code",
   "execution_count": null,
   "metadata": {
    "autoscroll": "json-false",
    "collapsed": false,
    "ein.tags": [
     "worksheet-0"
    ],
    "slideshow": {
     "slide_type": "-"
    }
   },
   "outputs": [],
   "source": [
    "# Enter your code here"
   ]
  },
  {
   "cell_type": "markdown",
   "metadata": {
    "ein.tags": [
     "worksheet-0"
    ],
    "slideshow": {
     "slide_type": "-"
    }
   },
   "source": [
    "*Enter your observations here*"
   ]
  },
  {
   "cell_type": "markdown",
   "metadata": {
    "ein.tags": [
     "worksheet-0"
    ],
    "slideshow": {
     "slide_type": "-"
    }
   },
   "source": [
    "## 3.2 Correlates of survival\n",
    "\n",
    "Use whatever methods you can think of to try and figure out what factors seem to determine whether or not a person would survive the sinking of the Titanic. What do you conclude?"
   ]
  },
  {
   "cell_type": "code",
   "execution_count": null,
   "metadata": {
    "autoscroll": "json-false",
    "collapsed": false,
    "ein.tags": [
     "worksheet-0"
    ],
    "slideshow": {
     "slide_type": "-"
    }
   },
   "outputs": [],
   "source": [
    "# Enter your code here"
   ]
  },
  {
   "cell_type": "markdown",
   "metadata": {
    "ein.tags": [
     "worksheet-0"
    ],
    "slideshow": {
     "slide_type": "-"
    }
   },
   "source": [
    "*Enter your observations here*"
   ]
  },
  {
   "cell_type": "markdown",
   "metadata": {
    "ein.tags": [
     "worksheet-0"
    ],
    "slideshow": {
     "slide_type": "-"
    }
   },
   "source": [
    "## 3.3 Predict survival\n",
    "\n",
    "Use 2-3 different machine learning algorithms to predict who will survive the titanic. Use whatever variables you like, but make sure to understand what you are doing, i.e., don't blindly use a variable without understanding what it signifies, how it is coded (e.g., should a categorical variable be converted into a set of fixed effects?), whether it is missing observations, and so forth. Feel free to use built-in libraries, but make sure to cross-validate your model (on the training set!), and then report the test accuracy. How effectively can you predict survival, and what model works best?"
   ]
  },
  {
   "cell_type": "code",
   "execution_count": null,
   "metadata": {
    "autoscroll": "json-false",
    "collapsed": false,
    "ein.tags": [
     "worksheet-0"
    ],
    "slideshow": {
     "slide_type": "-"
    }
   },
   "outputs": [],
   "source": [
    "# Enter your code here"
   ]
  },
  {
   "cell_type": "markdown",
   "metadata": {
    "ein.tags": [
     "worksheet-0"
    ],
    "slideshow": {
     "slide_type": "-"
    }
   },
   "source": [
    "*Enter your observations here*"
   ]
  },
  {
   "cell_type": "markdown",
   "metadata": {
    "ein.tags": [
     "worksheet-0"
    ],
    "slideshow": {
     "slide_type": "-"
    }
   },
   "source": [
    "## Extra Credit: Develop an ensemble\n",
    "\n",
    "Create an ensemble learner by hand. Using all of the training data, fit as many different machine learning algorithms as you can. Then, to classify each instance in the test data, take the majority vote of all of your different fitted models. How accurately do you predict survival? How does this compare to your earlier results? \n",
    "\n",
    "Hint: Consult Daume Ch 11.\n",
    "\n",
    "*Note:* It will make your life easier if you use an odd number of algorithms!"
   ]
  },
  {
   "cell_type": "code",
   "execution_count": null,
   "metadata": {
    "autoscroll": "json-false",
    "collapsed": false,
    "ein.tags": [
     "worksheet-0"
    ],
    "slideshow": {
     "slide_type": "-"
    }
   },
   "outputs": [],
   "source": [
    "# Enter your code here"
   ]
  },
  {
   "cell_type": "markdown",
   "metadata": {
    "ein.tags": [
     "worksheet-0"
    ],
    "slideshow": {
     "slide_type": "-"
    }
   },
   "source": [
    "*Enter your observations here*"
   ]
  }
 ],
 "metadata": {
  "kernelspec": {
   "display_name": "Python [Root]",
   "language": "python",
   "name": "Python [Root]"
  },
  "language_info": {
   "codemirror_mode": {
    "name": "ipython",
    "version": 3
   },
   "file_extension": ".py",
   "mimetype": "text/x-python",
   "name": "python",
   "nbconvert_exporter": "python",
   "pygments_lexer": "ipython3",
   "version": "3.5.2"
  },
  "name": "INFO371-PS5-completed.ipynb"
 },
 "nbformat": 4,
 "nbformat_minor": 0
}
